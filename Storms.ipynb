{
 "cells": [
  {
   "cell_type": "code",
   "execution_count": 2,
   "metadata": {},
   "outputs": [],
   "source": [
    "%matplotlib inline\n",
    "import numpy as np\n",
    "import pandas as pd\n",
    "from pandas import Series, DataFrame\n",
    "import matplotlib.pyplot as plt"
   ]
  },
  {
   "cell_type": "code",
   "execution_count": 6,
   "metadata": {},
   "outputs": [
    {
     "data": {
      "text/html": [
       "<div>\n",
       "<style scoped>\n",
       "    .dataframe tbody tr th:only-of-type {\n",
       "        vertical-align: middle;\n",
       "    }\n",
       "\n",
       "    .dataframe tbody tr th {\n",
       "        vertical-align: top;\n",
       "    }\n",
       "\n",
       "    .dataframe thead th {\n",
       "        text-align: right;\n",
       "    }\n",
       "</style>\n",
       "<table border=\"1\" class=\"dataframe\">\n",
       "  <thead>\n",
       "    <tr style=\"text-align: right;\">\n",
       "      <th></th>\n",
       "      <th>YEARMONTH</th>\n",
       "      <th>EPISODE_ID</th>\n",
       "      <th>EVENT_ID</th>\n",
       "      <th>LOCATION_INDEX</th>\n",
       "      <th>RANGE</th>\n",
       "      <th>AZIMUTH</th>\n",
       "      <th>LOCATION</th>\n",
       "      <th>LATITUDE</th>\n",
       "      <th>LONGITUDE</th>\n",
       "      <th>LAT2</th>\n",
       "      <th>LON2</th>\n",
       "    </tr>\n",
       "  </thead>\n",
       "  <tbody>\n",
       "    <tr>\n",
       "      <th>0</th>\n",
       "      <td>202006</td>\n",
       "      <td>147048</td>\n",
       "      <td>883916</td>\n",
       "      <td>1</td>\n",
       "      <td>4.20</td>\n",
       "      <td>SW</td>\n",
       "      <td>VINELAND</td>\n",
       "      <td>46.1200</td>\n",
       "      <td>-93.8000</td>\n",
       "      <td>467200</td>\n",
       "      <td>9348000</td>\n",
       "    </tr>\n",
       "    <tr>\n",
       "      <th>1</th>\n",
       "      <td>202006</td>\n",
       "      <td>147048</td>\n",
       "      <td>883916</td>\n",
       "      <td>2</td>\n",
       "      <td>2.49</td>\n",
       "      <td>SSW</td>\n",
       "      <td>WAHKON</td>\n",
       "      <td>46.0848</td>\n",
       "      <td>-93.5305</td>\n",
       "      <td>465088</td>\n",
       "      <td>9331830</td>\n",
       "    </tr>\n",
       "    <tr>\n",
       "      <th>2</th>\n",
       "      <td>202006</td>\n",
       "      <td>147048</td>\n",
       "      <td>883917</td>\n",
       "      <td>1</td>\n",
       "      <td>2.13</td>\n",
       "      <td>SSW</td>\n",
       "      <td>WARMAN</td>\n",
       "      <td>46.0400</td>\n",
       "      <td>-93.2900</td>\n",
       "      <td>462400</td>\n",
       "      <td>9317400</td>\n",
       "    </tr>\n",
       "    <tr>\n",
       "      <th>3</th>\n",
       "      <td>202006</td>\n",
       "      <td>147048</td>\n",
       "      <td>883918</td>\n",
       "      <td>1</td>\n",
       "      <td>6.22</td>\n",
       "      <td>N</td>\n",
       "      <td>QUAMBA</td>\n",
       "      <td>46.0100</td>\n",
       "      <td>-93.1800</td>\n",
       "      <td>46600</td>\n",
       "      <td>9310800</td>\n",
       "    </tr>\n",
       "    <tr>\n",
       "      <th>4</th>\n",
       "      <td>202006</td>\n",
       "      <td>147087</td>\n",
       "      <td>884127</td>\n",
       "      <td>1</td>\n",
       "      <td>0.00</td>\n",
       "      <td>N</td>\n",
       "      <td>FARWELL</td>\n",
       "      <td>45.7500</td>\n",
       "      <td>-95.6200</td>\n",
       "      <td>4545000</td>\n",
       "      <td>9537200</td>\n",
       "    </tr>\n",
       "  </tbody>\n",
       "</table>\n",
       "</div>"
      ],
      "text/plain": [
       "   YEARMONTH  EPISODE_ID  EVENT_ID  LOCATION_INDEX  RANGE AZIMUTH  LOCATION  \\\n",
       "0     202006      147048    883916               1   4.20      SW  VINELAND   \n",
       "1     202006      147048    883916               2   2.49     SSW    WAHKON   \n",
       "2     202006      147048    883917               1   2.13     SSW    WARMAN   \n",
       "3     202006      147048    883918               1   6.22       N    QUAMBA   \n",
       "4     202006      147087    884127               1   0.00       N   FARWELL   \n",
       "\n",
       "   LATITUDE  LONGITUDE     LAT2     LON2  \n",
       "0   46.1200   -93.8000   467200  9348000  \n",
       "1   46.0848   -93.5305   465088  9331830  \n",
       "2   46.0400   -93.2900   462400  9317400  \n",
       "3   46.0100   -93.1800    46600  9310800  \n",
       "4   45.7500   -95.6200  4545000  9537200  "
      ]
     },
     "execution_count": 6,
     "metadata": {},
     "output_type": "execute_result"
    }
   ],
   "source": [
    "locations = pd.read_csv(\"StormEvents_locations.csv\", sep=',')\n",
    "fatalities = pd.read_csv(\"StormEvents_fatalities.csv\", sep=',')\n",
    "locations.head()"
   ]
  },
  {
   "cell_type": "code",
   "execution_count": 29,
   "metadata": {
    "scrolled": true
   },
   "outputs": [
    {
     "data": {
      "text/html": [
       "<div>\n",
       "<style scoped>\n",
       "    .dataframe tbody tr th:only-of-type {\n",
       "        vertical-align: middle;\n",
       "    }\n",
       "\n",
       "    .dataframe tbody tr th {\n",
       "        vertical-align: top;\n",
       "    }\n",
       "\n",
       "    .dataframe thead th {\n",
       "        text-align: right;\n",
       "    }\n",
       "</style>\n",
       "<table border=\"1\" class=\"dataframe\">\n",
       "  <thead>\n",
       "    <tr style=\"text-align: right;\">\n",
       "      <th></th>\n",
       "      <th>FAT_YEARMONTH</th>\n",
       "      <th>FAT_DAY</th>\n",
       "      <th>FAT_TIME</th>\n",
       "      <th>FATALITY_ID</th>\n",
       "      <th>EVENT_ID</th>\n",
       "      <th>FATALITY_TYPE</th>\n",
       "      <th>FATALITY_DATE</th>\n",
       "      <th>FATALITY_AGE</th>\n",
       "      <th>FATALITY_SEX</th>\n",
       "      <th>FATALITY_LOCATION</th>\n",
       "      <th>EVENT_YEARMONTH</th>\n",
       "    </tr>\n",
       "  </thead>\n",
       "  <tbody>\n",
       "    <tr>\n",
       "      <th>0</th>\n",
       "      <td>202004</td>\n",
       "      <td>13</td>\n",
       "      <td>0</td>\n",
       "      <td>41079</td>\n",
       "      <td>889068</td>\n",
       "      <td>D</td>\n",
       "      <td>04/13/2020 00:00:00</td>\n",
       "      <td>25.0</td>\n",
       "      <td>M</td>\n",
       "      <td>Mobile/Trailer Home</td>\n",
       "      <td>202004</td>\n",
       "    </tr>\n",
       "    <tr>\n",
       "      <th>1</th>\n",
       "      <td>202004</td>\n",
       "      <td>24</td>\n",
       "      <td>0</td>\n",
       "      <td>41107</td>\n",
       "      <td>891279</td>\n",
       "      <td>I</td>\n",
       "      <td>04/24/2020 00:00:00</td>\n",
       "      <td>16.0</td>\n",
       "      <td>M</td>\n",
       "      <td>In Water</td>\n",
       "      <td>202004</td>\n",
       "    </tr>\n",
       "    <tr>\n",
       "      <th>2</th>\n",
       "      <td>202001</td>\n",
       "      <td>14</td>\n",
       "      <td>0</td>\n",
       "      <td>41201</td>\n",
       "      <td>897962</td>\n",
       "      <td>I</td>\n",
       "      <td>01/14/2020 00:00:00</td>\n",
       "      <td>44.0</td>\n",
       "      <td>M</td>\n",
       "      <td>Boating</td>\n",
       "      <td>202001</td>\n",
       "    </tr>\n",
       "    <tr>\n",
       "      <th>3</th>\n",
       "      <td>202001</td>\n",
       "      <td>14</td>\n",
       "      <td>0</td>\n",
       "      <td>41202</td>\n",
       "      <td>897962</td>\n",
       "      <td>I</td>\n",
       "      <td>01/14/2020 00:00:00</td>\n",
       "      <td>57.0</td>\n",
       "      <td>M</td>\n",
       "      <td>Boating</td>\n",
       "      <td>202001</td>\n",
       "    </tr>\n",
       "    <tr>\n",
       "      <th>4</th>\n",
       "      <td>202001</td>\n",
       "      <td>14</td>\n",
       "      <td>0</td>\n",
       "      <td>41203</td>\n",
       "      <td>897962</td>\n",
       "      <td>I</td>\n",
       "      <td>01/14/2020 00:00:00</td>\n",
       "      <td>59.0</td>\n",
       "      <td>M</td>\n",
       "      <td>Boating</td>\n",
       "      <td>202001</td>\n",
       "    </tr>\n",
       "  </tbody>\n",
       "</table>\n",
       "</div>"
      ],
      "text/plain": [
       "   FAT_YEARMONTH  FAT_DAY  FAT_TIME  FATALITY_ID  EVENT_ID FATALITY_TYPE  \\\n",
       "0         202004       13         0        41079    889068             D   \n",
       "1         202004       24         0        41107    891279             I   \n",
       "2         202001       14         0        41201    897962             I   \n",
       "3         202001       14         0        41202    897962             I   \n",
       "4         202001       14         0        41203    897962             I   \n",
       "\n",
       "         FATALITY_DATE  FATALITY_AGE FATALITY_SEX    FATALITY_LOCATION  \\\n",
       "0  04/13/2020 00:00:00          25.0            M  Mobile/Trailer Home   \n",
       "1  04/24/2020 00:00:00          16.0            M             In Water   \n",
       "2  01/14/2020 00:00:00          44.0            M              Boating   \n",
       "3  01/14/2020 00:00:00          57.0            M              Boating   \n",
       "4  01/14/2020 00:00:00          59.0            M              Boating   \n",
       "\n",
       "   EVENT_YEARMONTH  \n",
       "0           202004  \n",
       "1           202004  \n",
       "2           202001  \n",
       "3           202001  \n",
       "4           202001  "
      ]
     },
     "execution_count": 29,
     "metadata": {},
     "output_type": "execute_result"
    }
   ],
   "source": [
    "fatalities.head()"
   ]
  },
  {
   "cell_type": "markdown",
   "metadata": {},
   "source": [
    "# Locations where most storms occured"
   ]
  },
  {
   "cell_type": "code",
   "execution_count": 21,
   "metadata": {},
   "outputs": [
    {
     "data": {
      "text/plain": [
       "LOCATION\n",
       "MAMMOTH        54\n",
       "SAN JUAN       52\n",
       "MT VERNON      47\n",
       "ELGIN          44\n",
       "GEORGETOWN     42\n",
       "SPRINGFIELD    41\n",
       "DUNCAN         40\n",
       "MANSFIELD      38\n",
       "RIVERSIDE      37\n",
       "KEWAUNEE       36\n",
       "PUEBLO         36\n",
       "DANVILLE       35\n",
       "ROCKPORT       35\n",
       "FAIRVIEW       35\n",
       "BOSTON         35\n",
       "dtype: int64"
      ]
     },
     "execution_count": 21,
     "metadata": {},
     "output_type": "execute_result"
    }
   ],
   "source": [
    "locations.groupby(\"LOCATION\").size().sort_values(ascending=False)[:15]"
   ]
  },
  {
   "cell_type": "markdown",
   "metadata": {},
   "source": [
    "# Events that occured in the most locations"
   ]
  },
  {
   "cell_type": "code",
   "execution_count": 26,
   "metadata": {
    "scrolled": false
   },
   "outputs": [
    {
     "data": {
      "text/plain": [
       "EPISODE_ID\n",
       "146557    273\n",
       "146373    270\n",
       "144632    269\n",
       "147540    264\n",
       "147164    200\n",
       "145784    198\n",
       "146765    190\n",
       "147224    187\n",
       "144485    168\n",
       "148112    159\n",
       "148908    155\n",
       "147189    140\n",
       "148962    140\n",
       "147970    136\n",
       "148258    135\n",
       "dtype: int64"
      ]
     },
     "execution_count": 26,
     "metadata": {},
     "output_type": "execute_result"
    }
   ],
   "source": [
    "locations.groupby(\"EPISODE_ID\").size().sort_values(ascending=False)[:15]"
   ]
  },
  {
   "cell_type": "markdown",
   "metadata": {},
   "source": [
    "# Max range overtime"
   ]
  },
  {
   "cell_type": "code",
   "execution_count": 32,
   "metadata": {
    "scrolled": false
   },
   "outputs": [
    {
     "data": {
      "text/plain": [
       "YEARMONTH\n",
       "202002    148.81\n",
       "202005    125.75\n",
       "202006    100.72\n",
       "202003     91.73\n",
       "202004     82.03\n",
       "202001     69.71\n",
       "Name: RANGE, dtype: float64"
      ]
     },
     "execution_count": 32,
     "metadata": {},
     "output_type": "execute_result"
    }
   ],
   "source": [
    "locations.groupby(\"YEARMONTH\")[\"RANGE\"].max().sort_values(ascending=False)[:15]"
   ]
  },
  {
   "cell_type": "code",
   "execution_count": 34,
   "metadata": {},
   "outputs": [
    {
     "data": {
      "text/plain": [
       "<AxesSubplot:xlabel='YEARMONTH'>"
      ]
     },
     "execution_count": 34,
     "metadata": {},
     "output_type": "execute_result"
    },
    {
     "data": {
      "image/png": "[encoded data removed]",
      "text/plain": [
       "<Figure size 432x288 with 1 Axes>"
      ]
     },
     "metadata": {
      "needs_background": "light"
     },
     "output_type": "display_data"
    }
   ],
   "source": [
    "locations.groupby(\"YEARMONTH\")[\"RANGE\"].max().plot.bar()"
   ]
  },
  {
   "cell_type": "markdown",
   "metadata": {},
   "source": [
    "# Top fatalities locations"
   ]
  },
  {
   "cell_type": "code",
   "execution_count": 27,
   "metadata": {},
   "outputs": [
    {
     "data": {
      "text/plain": [
       "FATALITY_LOCATION\n",
       "Vehicle/Towed Trailer           75\n",
       "Outside/Open Areas              45\n",
       "Mobile/Trailer Home             39\n",
       "In Water                        35\n",
       "Permanent Home                  25\n",
       "Unknown                         13\n",
       "Boating                          9\n",
       "Permanent Structure              6\n",
       "School                           3\n",
       "Under Tree                       2\n",
       "Long Span Roof                   1\n",
       "Heavy Equipment/Construction     1\n",
       "dtype: int64"
      ]
     },
     "execution_count": 27,
     "metadata": {},
     "output_type": "execute_result"
    }
   ],
   "source": [
    "fatalities.groupby(\"FATALITY_LOCATION\").size().sort_values(ascending=False)[:15]"
   ]
  },
  {
   "cell_type": "code",
   "execution_count": 30,
   "metadata": {},
   "outputs": [
    {
     "data": {
      "text/plain": [
       "<AxesSubplot:ylabel='None'>"
      ]
     },
     "execution_count": 30,
     "metadata": {},
     "output_type": "execute_result"
    },
    {
     "data": {
      "image/png": "[encoded data removed]",
      "text/plain": [
       "<Figure size 432x288 with 1 Axes>"
      ]
     },
     "metadata": {},
     "output_type": "display_data"
    }
   ],
   "source": [
    "fatalities.groupby(\"FATALITY_LOCATION\").size().plot.pie()"
   ]
  },
  {
   "cell_type": "markdown",
   "metadata": {},
   "source": [
    "# Fatalities genders"
   ]
  },
  {
   "cell_type": "code",
   "execution_count": 31,
   "metadata": {},
   "outputs": [
    {
     "data": {
      "text/plain": [
       "<AxesSubplot:ylabel='None'>"
      ]
     },
     "execution_count": 31,
     "metadata": {},
     "output_type": "execute_result"
    },
    {
     "data": {
      "image/png": "[encoded data removed]",
      "text/plain": [
       "<Figure size 432x288 with 1 Axes>"
      ]
     },
     "metadata": {},
     "output_type": "display_data"
    }
   ],
   "source": [
    "fatalities.groupby(\"FATALITY_SEX\").size().plot.pie()"
   ]
  }
 ],
 "metadata": {
  "kernelspec": {
   "display_name": "Python 3",
   "language": "python",
   "name": "python3"
  },
  "language_info": {
   "codemirror_mode": {
    "name": "ipython",
    "version": 3
   },
   "file_extension": ".py",
   "mimetype": "text/x-python",
   "name": "python",
   "nbconvert_exporter": "python",
   "pygments_lexer": "ipython3",
   "version": "3.8.5"
  }
 },
 "nbformat": 4,
 "nbformat_minor": 4
}
